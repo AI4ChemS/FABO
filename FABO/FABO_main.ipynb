{
 "cells": [
  {
   "cell_type": "code",
   "execution_count": 2,
   "metadata": {},
   "outputs": [],
   "source": [
    "import os\n",
    "import torch\n",
    "import random\n",
    "import pickle\n",
    "import warnings\n",
    "import numpy as np\n",
    "import pandas as pd\n",
    "import matplotlib.pyplot as plt\n",
    "from matplotlib.ticker import ScalarFormatter\n",
    "from code import bayesian_optimization_loop_EI\n",
    "from code import data_load"
   ]
  },
  {
   "cell_type": "code",
   "execution_count": 3,
   "metadata": {},
   "outputs": [],
   "source": [
    "warnings.filterwarnings('ignore')\n",
    "nb_iterations = 12 \n",
    "nb_MOFs_initialization = 10\n",
    "min_features = 5\n",
    "max_features = 20\n",
    "FABO = True\n",
    "which_acquisition = \"EI\"   # \"max y_hat\" or \"max sigma\"\n",
    "FS_method = 'spearman'\n",
    "n_seed = 19\n",
    "seeds = random.sample(range(11, 3000), n_seed)\n",
    "path = \"data/CoRE2019_1600000.csv\"\n",
    "label=\"pure_uptake_CO2_298.00_1600000\""
   ]
  },
  {
   "cell_type": "code",
   "execution_count": 3,
   "metadata": {
    "scrolled": true
   },
   "outputs": [
    {
     "name": "stdout",
     "output_type": "stream",
     "text": [
      "StandardScaler()\n",
      "CoRE2019_1600000__seed_260\n",
      "# MOFs in initialization: 10\n",
      "took time t =  7.884213527043661 min\n",
      "\n",
      "StandardScaler()\n",
      "CoRE2019_1600000__seed_391\n",
      "# MOFs in initialization: 10\n",
      "took time t =  18.643158276875813 min\n",
      "\n",
      "StandardScaler()\n",
      "CoRE2019_1600000__seed_451\n",
      "# MOFs in initialization: 10\n",
      "took time t =  9.651887019475302 min\n",
      "\n",
      "StandardScaler()\n",
      "CoRE2019_1600000__seed_628\n",
      "# MOFs in initialization: 10\n",
      "took time t =  9.504870176315308 min\n",
      "\n",
      "StandardScaler()\n",
      "CoRE2019_1600000__seed_805\n",
      "# MOFs in initialization: 10\n",
      "took time t =  9.740564823150635 min\n",
      "\n",
      "StandardScaler()\n",
      "CoRE2019_1600000__seed_1016\n",
      "# MOFs in initialization: 10\n",
      "took time t =  9.707191785176596 min\n",
      "\n",
      "StandardScaler()\n",
      "CoRE2019_1600000__seed_1390\n",
      "# MOFs in initialization: 10\n",
      "took time t =  7.581273714701335 min\n",
      "\n",
      "StandardScaler()\n",
      "CoRE2019_1600000__seed_1399\n",
      "# MOFs in initialization: 10\n",
      "took time t =  8.423768281936646 min\n",
      "\n",
      "StandardScaler()\n",
      "CoRE2019_1600000__seed_1400\n",
      "# MOFs in initialization: 10\n",
      "took time t =  11.70710523923238 min\n",
      "\n",
      "StandardScaler()\n",
      "CoRE2019_1600000__seed_1613\n",
      "# MOFs in initialization: 10\n",
      "took time t =  11.158408323923746 min\n",
      "\n",
      "StandardScaler()\n",
      "CoRE2019_1600000__seed_1749\n",
      "# MOFs in initialization: 10\n",
      "took time t =  11.350701649983725 min\n",
      "\n",
      "StandardScaler()\n",
      "CoRE2019_1600000__seed_1931\n",
      "# MOFs in initialization: 10\n",
      "took time t =  9.711304903030396 min\n",
      "\n",
      "StandardScaler()\n",
      "CoRE2019_1600000__seed_2132\n",
      "# MOFs in initialization: 10\n",
      "took time t =  12.771542072296144 min\n",
      "\n",
      "StandardScaler()\n",
      "CoRE2019_1600000__seed_2142\n",
      "# MOFs in initialization: 10\n",
      "took time t =  7.959355115890503 min\n",
      "\n",
      "StandardScaler()\n",
      "CoRE2019_1600000__seed_2335\n",
      "# MOFs in initialization: 10\n",
      "took time t =  8.28877329826355 min\n",
      "\n",
      "StandardScaler()\n",
      "CoRE2019_1600000__seed_2408\n",
      "# MOFs in initialization: 10\n",
      "took time t =  8.39913527170817 min\n",
      "\n",
      "StandardScaler()\n",
      "CoRE2019_1600000__seed_2549\n",
      "# MOFs in initialization: 10\n",
      "took time t =  7.401301463445027 min\n",
      "\n",
      "StandardScaler()\n",
      "CoRE2019_1600000__seed_2894\n",
      "# MOFs in initialization: 10\n",
      "took time t =  9.344845215479532 min\n",
      "\n",
      "StandardScaler()\n",
      "CoRE2019_1600000__seed_2897\n",
      "# MOFs in initialization: 10\n",
      "took time t =  10.318414767583212 min\n",
      "\n"
     ]
    }
   ],
   "source": [
    "for i in range(0,len(seeds)):\n",
    "    path = \"data/CoRE2019_1600000.csv\"\n",
    "    to_drop=[\"Unnamed:0\",\"MOFname\"]\n",
    "    label=\"pure_uptake_CO2_298.00_1600000\"\n",
    "    X,y =  data_load.read_data(path,standardize=True,to_drop=to_drop,label=label)\n",
    "    nb_MOFs = len(X.index)\n",
    "\n",
    "    # Set Random Seed\n",
    "    seed = seeds[i]\n",
    "    np.random.seed(seed)\n",
    "    torch.manual_seed(seed)\n",
    "\n",
    "    experiment_name = path.split(\"/\")[1].split(\".\")[0] + \"_\".format(nb_MOFs_initialization) + \"_seed_{}\".format(seed)\n",
    "    print(experiment_name)\n",
    "    o, rank, ids_acquired, feature_count, plot_info = bayesian_optimization_loop_EI.main(X,y,nb_MOFs, nb_iterations, \n",
    "                                                                                     nb_MOFs_initialization, \n",
    "                                                                                     which_acquisition, \n",
    "                                                                                     min_features, max_features, \n",
    "                                                                                     FABO, experiment_name, \n",
    "                                                                                     cross_val_stats=True, \n",
    "                                                                                     FS_method = FS_method)\n"
   ]
  },
  {
   "cell_type": "code",
   "execution_count": 4,
   "metadata": {
    "scrolled": false
   },
   "outputs": [
    {
     "ename": "ValueError",
     "evalue": "x and y must have same first dimension, but have shapes (12,) and (250,)",
     "output_type": "error",
     "traceback": [
      "\u001b[0;31m---------------------------------------------------------------------------\u001b[0m",
      "\u001b[0;31mValueError\u001b[0m                                Traceback (most recent call last)",
      "Cell \u001b[0;32mIn[4], line 34\u001b[0m\n\u001b[1;32m     32\u001b[0m \u001b[38;5;28;01mfor\u001b[39;00m i, FS \u001b[38;5;129;01min\u001b[39;00m \u001b[38;5;28menumerate\u001b[39m(rank_avg\u001b[38;5;241m.\u001b[39mkeys()):\n\u001b[1;32m     33\u001b[0m     y \u001b[38;5;241m=\u001b[39m rank_avg[FS]\n\u001b[0;32m---> 34\u001b[0m     ax1\u001b[38;5;241m.\u001b[39mplot(X, y, label\u001b[38;5;241m=\u001b[39mFS, c\u001b[38;5;241m=\u001b[39mcolors[i], linewidth\u001b[38;5;241m=\u001b[39m\u001b[38;5;241m8\u001b[39m)    \n\u001b[1;32m     36\u001b[0m ax1\u001b[38;5;241m.\u001b[39mset_xlabel(\u001b[38;5;124m'\u001b[39m\u001b[38;5;124mNumber of Experiments\u001b[39m\u001b[38;5;124m'\u001b[39m, fontsize \u001b[38;5;241m=\u001b[39m \u001b[38;5;241m55\u001b[39m)\n\u001b[1;32m     37\u001b[0m ax1\u001b[38;5;241m.\u001b[39mset_ylabel(\u001b[38;5;124m'\u001b[39m\u001b[38;5;124mRanking of Best MOF\u001b[39m\u001b[38;5;124m'\u001b[39m, fontsize \u001b[38;5;241m=\u001b[39m \u001b[38;5;241m55\u001b[39m)\n",
      "File \u001b[0;32m/opt/anaconda3/lib/python3.11/site-packages/matplotlib/axes/_axes.py:1721\u001b[0m, in \u001b[0;36mAxes.plot\u001b[0;34m(self, scalex, scaley, data, *args, **kwargs)\u001b[0m\n\u001b[1;32m   1478\u001b[0m \u001b[38;5;250m\u001b[39m\u001b[38;5;124;03m\"\"\"\u001b[39;00m\n\u001b[1;32m   1479\u001b[0m \u001b[38;5;124;03mPlot y versus x as lines and/or markers.\u001b[39;00m\n\u001b[1;32m   1480\u001b[0m \n\u001b[0;32m   (...)\u001b[0m\n\u001b[1;32m   1718\u001b[0m \u001b[38;5;124;03m(``'green'``) or hex strings (``'#008000'``).\u001b[39;00m\n\u001b[1;32m   1719\u001b[0m \u001b[38;5;124;03m\"\"\"\u001b[39;00m\n\u001b[1;32m   1720\u001b[0m kwargs \u001b[38;5;241m=\u001b[39m cbook\u001b[38;5;241m.\u001b[39mnormalize_kwargs(kwargs, mlines\u001b[38;5;241m.\u001b[39mLine2D)\n\u001b[0;32m-> 1721\u001b[0m lines \u001b[38;5;241m=\u001b[39m [\u001b[38;5;241m*\u001b[39m\u001b[38;5;28mself\u001b[39m\u001b[38;5;241m.\u001b[39m_get_lines(\u001b[38;5;28mself\u001b[39m, \u001b[38;5;241m*\u001b[39margs, data\u001b[38;5;241m=\u001b[39mdata, \u001b[38;5;241m*\u001b[39m\u001b[38;5;241m*\u001b[39mkwargs)]\n\u001b[1;32m   1722\u001b[0m \u001b[38;5;28;01mfor\u001b[39;00m line \u001b[38;5;129;01min\u001b[39;00m lines:\n\u001b[1;32m   1723\u001b[0m     \u001b[38;5;28mself\u001b[39m\u001b[38;5;241m.\u001b[39madd_line(line)\n",
      "File \u001b[0;32m/opt/anaconda3/lib/python3.11/site-packages/matplotlib/axes/_base.py:303\u001b[0m, in \u001b[0;36m_process_plot_var_args.__call__\u001b[0;34m(self, axes, data, *args, **kwargs)\u001b[0m\n\u001b[1;32m    301\u001b[0m     this \u001b[38;5;241m+\u001b[39m\u001b[38;5;241m=\u001b[39m args[\u001b[38;5;241m0\u001b[39m],\n\u001b[1;32m    302\u001b[0m     args \u001b[38;5;241m=\u001b[39m args[\u001b[38;5;241m1\u001b[39m:]\n\u001b[0;32m--> 303\u001b[0m \u001b[38;5;28;01myield from\u001b[39;00m \u001b[38;5;28mself\u001b[39m\u001b[38;5;241m.\u001b[39m_plot_args(\n\u001b[1;32m    304\u001b[0m     axes, this, kwargs, ambiguous_fmt_datakey\u001b[38;5;241m=\u001b[39mambiguous_fmt_datakey)\n",
      "File \u001b[0;32m/opt/anaconda3/lib/python3.11/site-packages/matplotlib/axes/_base.py:499\u001b[0m, in \u001b[0;36m_process_plot_var_args._plot_args\u001b[0;34m(self, axes, tup, kwargs, return_kwargs, ambiguous_fmt_datakey)\u001b[0m\n\u001b[1;32m    496\u001b[0m     axes\u001b[38;5;241m.\u001b[39myaxis\u001b[38;5;241m.\u001b[39mupdate_units(y)\n\u001b[1;32m    498\u001b[0m \u001b[38;5;28;01mif\u001b[39;00m x\u001b[38;5;241m.\u001b[39mshape[\u001b[38;5;241m0\u001b[39m] \u001b[38;5;241m!=\u001b[39m y\u001b[38;5;241m.\u001b[39mshape[\u001b[38;5;241m0\u001b[39m]:\n\u001b[0;32m--> 499\u001b[0m     \u001b[38;5;28;01mraise\u001b[39;00m \u001b[38;5;167;01mValueError\u001b[39;00m(\u001b[38;5;124mf\u001b[39m\u001b[38;5;124m\"\u001b[39m\u001b[38;5;124mx and y must have same first dimension, but \u001b[39m\u001b[38;5;124m\"\u001b[39m\n\u001b[1;32m    500\u001b[0m                      \u001b[38;5;124mf\u001b[39m\u001b[38;5;124m\"\u001b[39m\u001b[38;5;124mhave shapes \u001b[39m\u001b[38;5;132;01m{\u001b[39;00mx\u001b[38;5;241m.\u001b[39mshape\u001b[38;5;132;01m}\u001b[39;00m\u001b[38;5;124m and \u001b[39m\u001b[38;5;132;01m{\u001b[39;00my\u001b[38;5;241m.\u001b[39mshape\u001b[38;5;132;01m}\u001b[39;00m\u001b[38;5;124m\"\u001b[39m)\n\u001b[1;32m    501\u001b[0m \u001b[38;5;28;01mif\u001b[39;00m x\u001b[38;5;241m.\u001b[39mndim \u001b[38;5;241m>\u001b[39m \u001b[38;5;241m2\u001b[39m \u001b[38;5;129;01mor\u001b[39;00m y\u001b[38;5;241m.\u001b[39mndim \u001b[38;5;241m>\u001b[39m \u001b[38;5;241m2\u001b[39m:\n\u001b[1;32m    502\u001b[0m     \u001b[38;5;28;01mraise\u001b[39;00m \u001b[38;5;167;01mValueError\u001b[39;00m(\u001b[38;5;124mf\u001b[39m\u001b[38;5;124m\"\u001b[39m\u001b[38;5;124mx and y can be no greater than 2D, but have \u001b[39m\u001b[38;5;124m\"\u001b[39m\n\u001b[1;32m    503\u001b[0m                      \u001b[38;5;124mf\u001b[39m\u001b[38;5;124m\"\u001b[39m\u001b[38;5;124mshapes \u001b[39m\u001b[38;5;132;01m{\u001b[39;00mx\u001b[38;5;241m.\u001b[39mshape\u001b[38;5;132;01m}\u001b[39;00m\u001b[38;5;124m and \u001b[39m\u001b[38;5;132;01m{\u001b[39;00my\u001b[38;5;241m.\u001b[39mshape\u001b[38;5;132;01m}\u001b[39;00m\u001b[38;5;124m\"\u001b[39m)\n",
      "\u001b[0;31mValueError\u001b[0m: x and y must have same first dimension, but have shapes (12,) and (250,)"
     ]
    },
    {
     "data": {
      "image/png": "[encoded data removed]",
      "text/plain": [
       "<Figure size 1600x1600 with 2 Axes>"
      ]
     },
     "metadata": {},
     "output_type": "display_data"
    }
   ],
   "source": [
    "# FABO Data\n",
    "\n",
    "directory = 'Pickle_files'\n",
    "rank_avg, rank_dict, id_dict, id_methods = {}, {}, {}, {}\n",
    "for filename in os.listdir(directory):\n",
    "    if filename.endswith('.pkl'):\n",
    "        file_path = os.path.join(directory, filename)\n",
    "        seed_value = filename.split('_seed_')[-1].split('.')[0]\n",
    "        with open(file_path, 'rb') as f:\n",
    "            data = pickle.load(f)\n",
    "        id_dict[seed_value] = data['IDS']\n",
    "        rank_dict[seed_value] = data['Rank']\n",
    "rank_avg['FABO'] = pd.DataFrame(rank_dict).mean(axis = 1)+1\n",
    "id_methods['FABO'] = pd.DataFrame(id_dict)\n",
    "\n",
    "\n",
    "################################################################################################################\n",
    "\n",
    "# Baseline (Random Sampling) Data\n",
    "rank_avg['baseline (random sampling)'], id_methods['baseline (random sampling)'] = bayesian_optimization_loop_EI.baseline (path, label, nb_iterations, n_seed)\n",
    "\n",
    "\n",
    "################################################################################################################\n",
    "df_CORE160 = pd.read_csv(path)\n",
    "CO2_uptake = list(df_CORE160[label].values) \n",
    "plt.rcParams['font.family'] = 'serif'\n",
    "plt.rcParams['font.serif'] = ['Times New Roman'] + plt.rcParams['font.serif']\n",
    "X = np.arange(1, nb_iterations + 1)\n",
    "fig, (ax1, ax2) = plt.subplots(1, 2, figsize=(16, 16), gridspec_kw={'width_ratios': [4, 1]})\n",
    "colors = ['#7f7f7f', '#ff7f0e',] \n",
    "\n",
    "for i, FS in enumerate(rank_avg.keys()):\n",
    "    y = rank_avg[FS]\n",
    "    ax1.plot(X, y, label=FS, c=colors[i], linewidth=8)    \n",
    "    \n",
    "ax1.set_xlabel('Number of Experiments', fontsize = 55)\n",
    "ax1.set_ylabel('Ranking of Best MOF', fontsize = 55)\n",
    "ax1.legend(loc='upper center', bbox_to_anchor=(0.5, -0.15), ncol=1, fontsize=22)\n",
    "ax1.grid(False)\n",
    "ax1.spines['bottom'].set_visible(True)\n",
    "ax1.spines['left'].set_visible(True)\n",
    "ax1.spines['bottom'].set_linewidth(6) \n",
    "ax1.spines['left'].set_linewidth(6) \n",
    "ax1.spines['bottom'].set_color('black') \n",
    "ax1.spines['left'].set_color('black')  \n",
    "ax1.set_yscale('log')\n",
    "ax1.axhline(y=1, color='r', linestyle='--', label='Rank 1', linewidth = 4)\n",
    "ax1.invert_yaxis()\n",
    "ax1.get_yaxis().set_major_formatter(ScalarFormatter())\n",
    "ax1.tick_params(axis='both', which='major', labelsize=55)\n",
    "ax1.set_xticks([0, 50, 100, 150, 200, 250])  # Define where to place the ticks\n",
    "counts, bins = np.histogram(CO2_uptake, bins=20)\n",
    "ax2.barh(bins[:-1], counts, height=np.diff(bins), color='#1f77b4', edgecolor='black')\n",
    "ax2.set_ylabel('CO2 uptake [mol.kg$^{-1}$]', fontsize=55)\n",
    "ax2.set_xscale('linear')\n",
    "ax2.invert_yaxis()\n",
    "ax2.tick_params(axis='both', which='major', labelsize=55)\n",
    "ax2.grid(False)\n",
    "plt.tight_layout()  \n",
    "plt.show()\n"
   ]
  },
  {
   "cell_type": "code",
   "execution_count": 53,
   "metadata": {},
   "outputs": [
    {
     "data": {
      "text/plain": [
       "array([5707, 2205, 2205, 2205, 2205,  604,  604,  604,  604,  604])"
      ]
     },
     "execution_count": 53,
     "metadata": {},
     "output_type": "execute_result"
    }
   ],
   "source": [
    "pd.DataFrame(rank_dict).iloc[:10,:].values.T[0]"
   ]
  },
  {
   "cell_type": "code",
   "execution_count": 32,
   "metadata": {},
   "outputs": [
    {
     "data": {
      "text/plain": [
       "(19, 10)"
      ]
     },
     "execution_count": 32,
     "metadata": {},
     "output_type": "execute_result"
    }
   ],
   "source": [
    "np.array(list(id_dict.values()))[:,:nb_MOFs_initialization].shape\n"
   ]
  },
  {
   "cell_type": "code",
   "execution_count": 37,
   "metadata": {},
   "outputs": [
    {
     "data": {
      "text/plain": [
       "()"
      ]
     },
     "execution_count": 37,
     "metadata": {},
     "output_type": "execute_result"
    }
   ],
   "source": [
    "np.array(np.mean(np.max(np.array(abs_value_list),axis = 1))).shape"
   ]
  },
  {
   "cell_type": "code",
   "execution_count": 39,
   "metadata": {},
   "outputs": [
    {
     "data": {
      "text/plain": [
       "array([18.6204745 , 21.84369129, 21.89799631, 21.89799631, 21.89799631,\n",
       "       21.89799631, 22.77521673, 22.77521673, 22.77521673, 22.77521673,\n",
       "       22.77521673, 24.83822164, 27.0374482 , 27.38038099, 27.75947488,\n",
       "       28.04392939, 29.63062762, 30.56710619, 31.07240319, 31.76129681,\n",
       "       31.8221762 , 31.84019179, 31.84019179, 31.91727171, 31.93796944,\n",
       "       32.01144046, 32.1655131 , 32.29530773, 32.31692281, 32.31692281,\n",
       "       32.31692281, 32.31692281, 32.31692281, 32.31692281, 32.33853789,\n",
       "       32.59246406, 32.59246406, 32.59246406, 32.59246406, 32.59246406,\n",
       "       32.59246406, 32.59246406, 32.59246406, 32.59246406, 32.66585729,\n",
       "       32.66585729, 32.66585729, 32.66585729, 32.66585729, 32.66585729,\n",
       "       32.66585729, 32.66585729, 32.66585729, 32.66585729, 32.66585729,\n",
       "       32.73925052, 32.73925052, 32.81264375, 32.81264375, 32.81264375,\n",
       "       32.81264375, 32.81264375, 32.81264375, 32.81264375, 32.81264375,\n",
       "       32.81264375, 32.81264375, 32.81264375, 32.81264375, 32.81264375,\n",
       "       32.81264375, 32.81264375, 32.81264375, 32.81264375, 32.81264375,\n",
       "       32.81264375, 32.81264375, 32.81264375, 32.81264375, 32.81264375,\n",
       "       32.81264375, 32.81264375, 32.81264375, 32.81264375, 32.81264375,\n",
       "       32.81264375, 32.81264375, 32.81264375, 32.81264375, 32.81264375,\n",
       "       32.81264375, 32.81264375, 32.81264375, 32.81264375, 32.81264375,\n",
       "       32.81264375, 32.81264375, 32.81264375, 32.81264375, 32.81264375,\n",
       "       32.81264375, 32.81264375, 32.81264375, 32.81264375, 32.81264375,\n",
       "       32.81264375, 32.88603698, 32.88603698, 32.95943022, 32.95943022,\n",
       "       32.95943022, 32.95943022, 32.95943022, 32.95943022, 32.95943022,\n",
       "       32.95943022, 32.95943022, 32.95943022, 32.95943022, 33.03282345,\n",
       "       33.03282345, 33.03282345, 33.10621668, 33.17960991, 33.17960991,\n",
       "       33.17960991, 33.17960991, 33.17960991, 33.17960991, 33.17960991,\n",
       "       33.17960991, 33.17960991, 33.17960991, 33.17960991, 33.17960991,\n",
       "       33.17960991, 33.17960991, 33.25300315, 33.25300315, 33.25300315,\n",
       "       33.25300315, 33.25300315, 33.47318284, 33.47318284, 33.47318284,\n",
       "       33.47318284, 33.47318284, 33.47318284, 33.47318284, 33.61996931,\n",
       "       33.61996931, 33.61996931, 33.61996931, 33.69336254, 33.69336254,\n",
       "       33.69336254, 33.69336254, 33.69336254, 33.69336254, 33.69336254,\n",
       "       33.69336254, 33.69336254, 33.69336254, 33.69336254, 33.69336254,\n",
       "       33.69336254, 33.69336254, 33.69336254, 33.69336254, 33.69336254,\n",
       "       33.69336254, 33.69336254, 33.69336254, 33.69336254, 33.76675577,\n",
       "       33.76675577, 33.76675577, 33.76675577, 33.76675577, 33.76675577,\n",
       "       33.76675577, 33.76675577, 33.76675577, 33.76675577, 33.76675577,\n",
       "       33.76675577, 33.76675577, 33.76675577, 33.76675577, 33.76675577,\n",
       "       33.76675577, 33.76675577, 33.76675577, 33.76675577, 33.76675577,\n",
       "       33.76675577, 33.76675577, 33.76675577, 33.76675577, 33.76675577,\n",
       "       33.76675577, 33.76675577, 33.76675577, 33.76675577, 33.76675577,\n",
       "       33.76675577, 33.76675577, 33.76675577, 33.76675577, 33.76675577,\n",
       "       33.76675577, 33.76675577, 33.76675577, 33.76675577, 33.76675577,\n",
       "       33.76675577, 33.76675577, 33.76675577, 33.76675577, 33.76675577,\n",
       "       33.76675577, 33.76675577, 33.76675577, 33.76675577, 33.76675577,\n",
       "       33.76675577, 33.76675577, 33.76675577, 33.76675577, 33.76675577,\n",
       "       33.76675577, 33.76675577, 33.76675577, 33.76675577, 33.76675577,\n",
       "       33.76675577, 33.76675577, 33.76675577, 33.76675577, 33.76675577,\n",
       "       33.76675577, 33.76675577, 33.76675577, 33.76675577, 33.76675577,\n",
       "       33.76675577, 33.76675577, 33.76675577, 33.76675577, 33.76675577,\n",
       "       33.76675577])"
      ]
     },
     "execution_count": 39,
     "metadata": {},
     "output_type": "execute_result"
    }
   ],
   "source": [
    "np.concatenate((np.atleast_1d(np.mean(np.max(np.array(abs_value_list),axis = 1))),act_avg['FABO']))"
   ]
  }
 ],
 "metadata": {
  "kernelspec": {
   "display_name": "Python 3 (ipykernel)",
   "language": "python",
   "name": "python3"
  },
  "language_info": {
   "codemirror_mode": {
    "name": "ipython",
    "version": 3
   },
   "file_extension": ".py",
   "mimetype": "text/x-python",
   "name": "python",
   "nbconvert_exporter": "python",
   "pygments_lexer": "ipython3",
   "version": "3.11.7"
  }
 },
 "nbformat": 4,
 "nbformat_minor": 4
}
